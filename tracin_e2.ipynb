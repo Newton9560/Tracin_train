{
 "cells": [
  {
   "cell_type": "code",
   "execution_count": 1,
   "metadata": {
    "pycharm": {
     "name": "#%%\n"
    }
   },
   "outputs": [],
   "source": [
    "import os\n",
    "import torch\n",
    "import json\n",
    "import torchvision.transforms as transforms\n",
    "from torch.utils.tensorboard import SummaryWriter\n",
    "from torch.autograd import grad\n",
    "from models.vit import ViT\n",
    "import utils\n",
    "from PIL import Image\n",
    "import my_dataset\n",
    "from pathlib import Path\n",
    "from torch.utils.data import Dataset\n",
    "from tqdm import tqdm\n",
    "import matplotlib.pyplot as plt\n",
    "from models_DLA.dla_simple import SimpleDLA"
   ]
  },
  {
   "cell_type": "markdown",
   "metadata": {
    "pycharm": {
     "name": "#%% md\n"
    }
   },
   "source": [
    "# 该文件用于得到每个训练样本的tracin score，并进行排序，最终写入txt文件"
   ]
  },
  {
   "cell_type": "code",
   "execution_count": 2,
   "metadata": {
    "pycharm": {
     "name": "#%%\n"
    }
   },
   "outputs": [],
   "source": [
    "size = 32 # 图片尺寸\n",
    "\n",
    "num_classes = 10 # 类别数\n",
    "\n",
    "root = \"./weights/model-\" #checkpoint路径\n",
    "weight_pth = 20 #第n个checkpoint"
   ]
  },
  {
   "cell_type": "code",
   "execution_count": 3,
   "metadata": {
    "pycharm": {
     "name": "#%%\n"
    }
   },
   "outputs": [],
   "source": [
    "device = torch.device(\"cuda:0\" if torch.cuda.is_available() else \"cpu\")"
   ]
  },
  {
   "cell_type": "code",
   "execution_count": 4,
   "metadata": {
    "pycharm": {
     "name": "#%%\n"
    }
   },
   "outputs": [],
   "source": [
    "# 初始化模型\n",
    "# model = ViT(\n",
    "#     image_size = size,\n",
    "#     patch_size = 4,\n",
    "#     num_classes = num_classes,\n",
    "#     dim = 512,\n",
    "#     depth = 6,\n",
    "#     heads = 8,\n",
    "#     mlp_dim = 512,\n",
    "#     dropout = 0.1,\n",
    "#     emb_dropout = 0.1\n",
    "# ).to(device)\n",
    "model = SimpleDLA().to(device)\n"
   ]
  },
  {
   "cell_type": "code",
   "execution_count": 5,
   "metadata": {
    "pycharm": {
     "name": "#%%\n"
    }
   },
   "outputs": [],
   "source": [
    "# 读取数据\n",
    "# test_data = utils.read_file(\"./forgetting/result/forget.txt\")\n",
    "train_data = utils.read_file(\"../cifar10/train_data.txt\")"
   ]
  },
  {
   "cell_type": "code",
   "execution_count": 6,
   "metadata": {
    "pycharm": {
     "name": "#%%\n"
    }
   },
   "outputs": [],
   "source": [
    "# 读取测试数据在正常训练时保存的信息\n",
    "data = utils.read_yaml(\"./train_detail/val_data_LDA.yaml\")"
   ]
  },
  {
   "cell_type": "code",
   "execution_count": 7,
   "metadata": {
    "pycharm": {
     "name": "#%%\n"
    }
   },
   "outputs": [],
   "source": [
    "# 根据yaml文件，计算每个测试样本的难度系数。wrong = 测试样本在第N个epoch前出错的次数 * 1 + 测试样本在第N个epoch前出错的次数 * 0。before，after暂未用到。path为文件路径，与wrong一一对应\n",
    "wrong, before, after, path = utils.cal_wrong(data, weight_pth, 1, 0)\n",
    "\n",
    "# 根据wrong，对wrong和path进行排序\n",
    "wrong_sorted, path_sorted = utils.sort_list(wrong, path, 1)"
   ]
  },
  {
   "cell_type": "code",
   "execution_count": 8,
   "metadata": {
    "pycharm": {
     "name": "#%%\n"
    }
   },
   "outputs": [],
   "source": [
    "# # 删除那些始终无法被正确识别的样本\n",
    "# if eliminate == \"eliminate\":\n",
    "#     for path in wrong_data:\n",
    "#         if path in path_sorted:\n",
    "#             path_sorted.remove(path)"
   ]
  },
  {
   "cell_type": "code",
   "execution_count": 10,
   "metadata": {
    "pycharm": {
     "name": "#%%\n"
    }
   },
   "outputs": [],
   "source": [
    "# 根据排序后的path，区分出hard，easy数据。classify参数代表每个类的数量相同\n",
    "hard_data, easy_data = utils.split_easy_hard(path_sorted, 0.3, 0.3, classify = True)"
   ]
  },
  {
   "cell_type": "code",
   "execution_count": 11,
   "metadata": {
    "pycharm": {
     "name": "#%%\n"
    }
   },
   "outputs": [
    {
     "data": {
      "text/plain": "<Figure size 800x400 with 1 Axes>",
      "image/png": "[encoded data removed]"
     },
     "metadata": {
      "needs_background": "light"
     },
     "output_type": "display_data"
    }
   ],
   "source": [
    "# 绘制hard_data的直方图。验证每个类数量相同\n",
    "utils.draw_hist(hard_data)"
   ]
  },
  {
   "cell_type": "code",
   "execution_count": 12,
   "outputs": [
    {
     "data": {
      "text/plain": "<Figure size 800x400 with 1 Axes>",
      "image/png": "[encoded data removed]"
     },
     "metadata": {},
     "output_type": "display_data"
    }
   ],
   "source": [
    "utils.draw_hist(easy_data)"
   ],
   "metadata": {
    "collapsed": false,
    "pycharm": {
     "name": "#%%\n"
    }
   }
  },
  {
   "cell_type": "markdown",
   "source": [
    "# 使用hard数据进行训练，根据tracin进行排序，保存至保存到train_result_DLA文件夹中"
   ],
   "metadata": {
    "collapsed": false,
    "pycharm": {
     "name": "#%% md\n"
    }
   }
  },
  {
   "cell_type": "code",
   "execution_count": 13,
   "metadata": {
    "pycharm": {
     "name": "#%%\n"
    }
   },
   "outputs": [
    {
     "name": "stderr",
     "output_type": "stream",
     "text": [
      "100%|██████████| 20/20 [2:54:45<00:00, 524.25s/it]  \n"
     ]
    },
    {
     "name": "stdout",
     "output_type": "stream",
     "text": [
      "[Success] Write 35000 lines of data in file ./train_result_DLA/forget/hard_20.txt\n"
     ]
    }
   ],
   "source": [
    "# 定义data transform，与正常训练时保持一致\n",
    "data_transform = {\n",
    "        \"train\": transforms.Compose([\n",
    "                                    transforms.RandomCrop(32, padding=4),\n",
    "                                    transforms.Resize(32),\n",
    "                                    transforms.RandomHorizontalFlip(),\n",
    "                                     transforms.ToTensor(),\n",
    "                                     transforms.Normalize([0.5, 0.5, 0.5], [0.5, 0.5, 0.5])]),\n",
    "        \"test\": transforms.Compose([transforms.ToTensor(),\n",
    "                                   transforms.Normalize([0.5, 0.5, 0.5], [0.5, 0.5, 0.5])])}\n",
    "\n",
    "# 生成数据集和测试数据集\n",
    "test_dataset = my_dataset.MyDataSet_CIFAR_Tracin(images_path=hard_data,\n",
    "                        transform=data_transform[\"test\"])\n",
    "train_dataset = my_dataset.MyDataSet_CIFAR_Tracin(images_path=train_data,\n",
    "                        transform=data_transform[\"train\"])\n",
    "\n",
    "# 创建dataloader类，其中trainloader的batch为1\n",
    "train_loader = torch.utils.data.DataLoader(train_dataset,\n",
    "                                            batch_size = 1,\n",
    "                                            collate_fn=train_dataset.collate_fn)\n",
    "\n",
    "val_loader = torch.utils.data.DataLoader(test_dataset,\n",
    "                                            batch_size = 32,\n",
    "                                            shuffle=True,\n",
    "                                            pin_memory=True,\n",
    "                                            collate_fn=test_dataset.collate_fn)\n",
    "\n",
    "# 定义损失函数\n",
    "loss_function = torch.nn.CrossEntropyLoss()\n",
    "\n",
    "# score_list用来保存每个样本在0-n个epoch中tracin的和，长度为len(train_data)。path_list用来保存训练数据的路径\n",
    "score_list = []\n",
    "path_list = train_data\n",
    "for index, p in enumerate(path_list):\n",
    "    score_list.append(0.)\n",
    "# 对0-n个epoch进行tracin的计算并求和\n",
    "bar = tqdm(range(weight_pth))\n",
    "for index, ep in enumerate(bar):\n",
    "\n",
    "\n",
    "    # 加载当前epoch保存的pth\n",
    "    checkpoint = torch.load('./weights_LDA/checkpoint-' + str(ep + 1) + '.pth.tar')\n",
    "    epoch = checkpoint['epoch']\n",
    "    model.load_state_dict(checkpoint['state_dict'])\n",
    "\n",
    "    model.eval()\n",
    "    # val_loader = tqdm(val_loader)\n",
    "\n",
    "\n",
    "    # 计算测试数据的grad_z_test\n",
    "    for step, data in enumerate(val_loader):\n",
    "        images, labels, path = data\n",
    "        result_train = model(images.to(device))\n",
    "        loss_train = loss_function(result_train, labels.to(device))\n",
    "        grad_z_test = grad(loss_train, model.parameters())\n",
    "        grad_z_test = utils.get_gradient(grad_z_test, model)\n",
    "\n",
    "\n",
    "    # 根据grad_z_test，对每个训练数据计算tracin\n",
    "    # train_loader = tqdm(train_loader)\n",
    "    for step, data in enumerate(train_loader):\n",
    "        images, labels, path = data\n",
    "        result = model(images.to(device))\n",
    "        loss_test = loss_function(result, labels.to(device))\n",
    "        grad_z_train = grad(loss_test, model.parameters())\n",
    "        grad_z_train = utils.get_gradient(grad_z_train, model)\n",
    "        score = utils.tracin_get(grad_z_test, grad_z_train)\n",
    "\n",
    "\n",
    "        # 根据当前训练数据的路径，在path_list中找到相应的下标，再在score_list的相应位置相加\n",
    "        score_list[int(path_list.index(path[0]))] = score_list[int(path_list.index(path[0]))] + score\n",
    "# 根据score_list对score_list和path_list进行排序；并将排序后的结果保存至path_lists和score_lists\n",
    "path_lists = []\n",
    "score_lists = []\n",
    "for index in utils.get_sorted_index(score_list, 1):\n",
    "    path_lists.append(path_list[index])\n",
    "    score_lists.append(score_list[index].item())\n",
    "# 写入txt文件\n",
    "with open(\"./train_result_DLA/hard_20.txt\", 'w') as file:\n",
    "        file.truncate(0)\n",
    "        for data in path_lists:\n",
    "            file.write(str(data) + '\\n')\n",
    "        print(\"[Success] Write {0} lines of data in file {1}\".format(len(path_lists), \"./train_result_DLA/hard_20.txt\"))"
   ]
  },
  {
   "cell_type": "markdown",
   "source": [
    "# 使用easy数据进行计算tracin，根据tracin进行排序，保存到train_result_DLA文件夹中"
   ],
   "metadata": {
    "collapsed": false,
    "pycharm": {
     "name": "#%% md\n"
    }
   }
  },
  {
   "cell_type": "code",
   "execution_count": 14,
   "outputs": [
    {
     "name": "stderr",
     "output_type": "stream",
     "text": [
      "100%|██████████| 20/20 [2:54:01<00:00, 522.10s/it]  \n"
     ]
    },
    {
     "name": "stdout",
     "output_type": "stream",
     "text": [
      "[Success] Write 35000 lines of data in file ./train_result_DLA/forget/easy_20.txt\n"
     ]
    }
   ],
   "source": [
    "# 生成数据集和测试数据集\n",
    "test_dataset = my_dataset.MyDataSet_CIFAR_Tracin(images_path=easy_data,\n",
    "                        transform=data_transform[\"test\"])\n",
    "train_dataset = my_dataset.MyDataSet_CIFAR_Tracin(images_path=train_data,\n",
    "                        transform=data_transform[\"train\"])\n",
    "\n",
    "# 创建dataloader类，其中trainloader的batch为1\n",
    "train_loader = torch.utils.data.DataLoader(train_dataset,\n",
    "                                            batch_size = 1,\n",
    "                                            collate_fn=train_dataset.collate_fn)\n",
    "\n",
    "val_loader = torch.utils.data.DataLoader(test_dataset,\n",
    "                                            batch_size = 32,\n",
    "                                            shuffle=True,\n",
    "                                            pin_memory=True,\n",
    "                                            collate_fn=test_dataset.collate_fn)\n",
    "\n",
    "# 定义损失函数\n",
    "loss_function = torch.nn.CrossEntropyLoss()\n",
    "\n",
    "# score_list用来保存每个样本在0-n个epoch中tracin的和，长度为len(train_data)。path_list用来保存训练数据的路径\n",
    "score_list = []\n",
    "path_list = train_data\n",
    "for index, p in enumerate(path_list):\n",
    "    score_list.append(0.)\n",
    "# 对0-n个epoch进行tracin的计算并求和\n",
    "bar = tqdm(range(weight_pth))\n",
    "for index, ep in enumerate(bar):\n",
    "\n",
    "\n",
    "    # 加载当前epoch保存的pth\n",
    "    checkpoint = torch.load('./weights_LDA/checkpoint-' + str(ep + 1) + '.pth.tar')\n",
    "    epoch = checkpoint['epoch']\n",
    "    model.load_state_dict(checkpoint['state_dict'])\n",
    "\n",
    "    model.eval()\n",
    "    # val_loader = tqdm(val_loader)\n",
    "\n",
    "\n",
    "    # 计算测试数据的grad_z_test\n",
    "    for step, data in enumerate(val_loader):\n",
    "        images, labels, path = data\n",
    "        result_train = model(images.to(device))\n",
    "        loss_train = loss_function(result_train, labels.to(device))\n",
    "        grad_z_test = grad(loss_train, model.parameters())\n",
    "        grad_z_test = utils.get_gradient(grad_z_test, model)\n",
    "\n",
    "\n",
    "    # 根据grad_z_test，对每个训练数据计算tracin\n",
    "    # train_loader = tqdm(train_loader)\n",
    "    for step, data in enumerate(train_loader):\n",
    "        images, labels, path = data\n",
    "        result = model(images.to(device))\n",
    "        loss_test = loss_function(result, labels.to(device))\n",
    "        grad_z_train = grad(loss_test, model.parameters())\n",
    "        grad_z_train = utils.get_gradient(grad_z_train, model)\n",
    "        score = utils.tracin_get(grad_z_test, grad_z_train)\n",
    "\n",
    "\n",
    "        # 根据当前训练数据的路径，在path_list中找到相应的下标，再在score_list的相应位置相加\n",
    "        score_list[int(path_list.index(path[0]))] = score_list[int(path_list.index(path[0]))] + score\n",
    "# 根据score_list对score_list和path_list进行排序；并将排序后的结果保存至path_lists和score_lists\n",
    "path_lists = []\n",
    "score_lists = []\n",
    "for index in utils.get_sorted_index(score_list, 1):\n",
    "    path_lists.append(path_list[index])\n",
    "    score_lists.append(score_list[index].item())\n",
    "# 写入txt文件\n",
    "with open(\"./train_result_DLA/easy_20.txt\", 'w') as file:\n",
    "        file.truncate(0)\n",
    "        for data in path_lists:\n",
    "            file.write(str(data) + '\\n')\n",
    "        print(\"[Success] Write {0} lines of data in file {1}\".format(len(path_lists), \"./train_result_DLA/easy_20.txt\"))"
   ],
   "metadata": {
    "collapsed": false,
    "pycharm": {
     "name": "#%%\n"
    }
   }
  }
 ],
 "metadata": {
  "kernelspec": {
   "display_name": "Python 3.9.12 ('env1')",
   "language": "python",
   "name": "python3"
  },
  "language_info": {
   "codemirror_mode": {
    "name": "ipython",
    "version": 3
   },
   "file_extension": ".py",
   "mimetype": "text/x-python",
   "name": "python",
   "nbconvert_exporter": "python",
   "pygments_lexer": "ipython3",
   "version": "3.9.12"
  },
  "orig_nbformat": 4,
  "vscode": {
   "interpreter": {
    "hash": "ac2c9fc71220d1b58b3640599b1e22027da1326aa67720425adf09ad6c638495"
   }
  }
 },
 "nbformat": 4,
 "nbformat_minor": 2
}