{
 "cells": [
  {
   "cell_type": "markdown",
   "metadata": {
    "pycharm": {
     "name": "#%% md\n"
    }
   },
   "source": [
    "# 根据tracin_xxx得到的TXT文件，对模型进行训练，并保存数据到tensorboard"
   ]
  },
  {
   "cell_type": "code",
   "execution_count": 1,
   "metadata": {
    "pycharm": {
     "name": "#%%\n"
    }
   },
   "outputs": [],
   "source": [
    "import utils\n",
    "from torchvision import transforms\n",
    "import my_dataset\n",
    "import os\n",
    "import torch\n",
    "from tqdm import tqdm\n",
    "from models.vit import ViT\n",
    "from torch.utils.tensorboard import SummaryWriter\n",
    "from models_DLA.dla_simple import SimpleDLA"
   ]
  },
  {
   "cell_type": "markdown",
   "metadata": {
    "pycharm": {
     "name": "#%% md\n"
    }
   },
   "source": [
    "## 选取训练数据\n",
    "\n",
    "$$\n",
    "Train_{tracin} = \\sum_{i = 0}({Train_{sorted}}[Segment[i].head:Segment[i].rear]).Sample(Segment[i].sample)\n",
    "$$"
   ]
  },
  {
   "cell_type": "code",
   "execution_count": 2,
   "metadata": {
    "pycharm": {
     "name": "#%%\n"
    }
   },
   "outputs": [],
   "source": [
    "# 从第cp*10个checkpoint开始训练\n",
    "cp = 2\n",
    "\n",
    "segments = [\n",
    "    [0, 8000, 7000],\n",
    "    [8000, 15000, 2500],\n",
    "    [33000, 35000, 1000]\n",
    "]\n",
    "\n",
    "save = True"
   ]
  },
  {
   "cell_type": "code",
   "execution_count": 3,
   "metadata": {
    "pycharm": {
     "name": "#%%\n"
    }
   },
   "outputs": [],
   "source": [
    "# 读取训练数据和测试数据，其中tracin_file2文件夹中的文件是根据tracin进行排序后的\n",
    "train_data = utils.read_file(\"./train_result_DLA/forget/easy_\" + str(cp) + \"0.txt\")\n",
    "val_data = utils.read_file(\"../cifar10/test_data.txt\")"
   ]
  },
  {
   "cell_type": "code",
   "execution_count": 4,
   "metadata": {
    "pycharm": {
     "name": "#%%\n"
    }
   },
   "outputs": [
    {
     "name": "stdout",
     "output_type": "stream",
     "text": [
      "EPOCH:20*TOTAL:10500*[0--8000]->7000&[8000--15000]->2500&[33000--35000]->1000_E_F\n"
     ]
    }
   ],
   "source": [
    "# 根据segment得到训练数据\n",
    "train_data_tracin = []\n",
    "\n",
    "for i, segment in enumerate(segments):\n",
    "    train_data_tracin += utils.split_easy_hard_num(train_data, segment[0], segment[1],segment[2])\n",
    "\n",
    "# index = np.zeros(len(train_data_tracin))\n",
    "# y = np.ones(len(train_data_tracin))\n",
    "# for i2, data in enumerate(train_data_tracin):\n",
    "#     index[i2] = train_data.index(data)\n",
    "# plt.figure(figsize=(3,15),dpi=100)\n",
    "# color = [plt.get_cmap(\"Spectral\", len(train_data))(int (i)) for i in index]\n",
    "# plt.scatter(y, index, s = 0.1, c = color)\n",
    "# plt.xticks([]) \n",
    "# plt.ylim((0,len(train_data)))\n",
    "# plt.colorbar()\n",
    "\n",
    "# plt.show()\n",
    "\n",
    "train_data = train_data_tracin\n",
    "    \n",
    "description = \"EPOCH:\" + str(cp*10) + utils.get_description(train_data, segments) + \"_E_F\"\n",
    "print(description)"
   ]
  },
  {
   "cell_type": "code",
   "execution_count": 5,
   "metadata": {
    "pycharm": {
     "name": "#%%\n"
    }
   },
   "outputs": [],
   "source": [
    "# tensorboard\n",
    "writer = SummaryWriter(log_dir = 'logs_forget')"
   ]
  },
  {
   "cell_type": "code",
   "execution_count": 6,
   "metadata": {
    "pycharm": {
     "name": "#%%\n"
    }
   },
   "outputs": [
    {
     "name": "stdout",
     "output_type": "stream",
     "text": [
      "Using 8 dataloader workers every process\n"
     ]
    }
   ],
   "source": [
    "batch_size = 64\n",
    "\n",
    "nw = min([os.cpu_count(), batch_size if batch_size > 1 else 0, 8])  # number of workers\n",
    "print('Using {} dataloader workers every process'.format(nw))"
   ]
  },
  {
   "cell_type": "code",
   "execution_count": 7,
   "metadata": {
    "pycharm": {
     "name": "#%%\n"
    }
   },
   "outputs": [
    {
     "data": {
      "text/plain": "<Figure size 800x400 with 1 Axes>",
      "image/png": "[encoded data removed]"
     },
     "metadata": {},
     "output_type": "display_data"
    }
   ],
   "source": [
    "# 绘制train_data的分布情况\n",
    "utils.draw_hist(train_data)"
   ]
  },
  {
   "cell_type": "code",
   "execution_count": 8,
   "metadata": {
    "pycharm": {
     "name": "#%%\n"
    }
   },
   "outputs": [],
   "source": [
    "# 定义data_transform，和正常训练时保持一致\n",
    "data_transform = {\n",
    "        \"train\": transforms.Compose([\n",
    "                                    transforms.RandomCrop(32, padding=4),\n",
    "                                    transforms.Resize(32),\n",
    "                                    transforms.RandomHorizontalFlip(),\n",
    "                                     transforms.ToTensor(),\n",
    "                                     transforms.Normalize([0.5, 0.5, 0.5], [0.5, 0.5, 0.5])]),\n",
    "        \"val\": transforms.Compose([transforms.ToTensor(),\n",
    "                                   transforms.Normalize([0.5, 0.5, 0.5], [0.5, 0.5, 0.5])])}\n",
    "\n",
    "\n",
    "# 定义dataset\n",
    "train_dataset = my_dataset.MyDataSet_CIFAR_Tracin(images_path=train_data,\n",
    "                        transform=data_transform[\"train\"])\n",
    "\n",
    "val_dataset = my_dataset.MyDataSet_CIFAR_Tracin(images_path=val_data,\n",
    "                        transform=data_transform[\"val\"])\n",
    "\n",
    "\n",
    "# 定义DataLoader类\n",
    "train_loader = torch.utils.data.DataLoader(train_dataset,\n",
    "                                            batch_size=batch_size,\n",
    "                                            shuffle=True,\n",
    "                                            pin_memory=True,\n",
    "                                            num_workers=nw,\n",
    "                                            collate_fn=train_dataset.collate_fn)\n",
    "\n",
    "val_loader = torch.utils.data.DataLoader(val_dataset,\n",
    "                                            batch_size=batch_size,\n",
    "                                            shuffle=True,\n",
    "                                            pin_memory=True,\n",
    "                                            num_workers=nw,\n",
    "                                            collate_fn=val_dataset.collate_fn)"
   ]
  },
  {
   "cell_type": "code",
   "execution_count": 9,
   "metadata": {
    "pycharm": {
     "name": "#%%\n"
    }
   },
   "outputs": [
    {
     "data": {
      "text/plain": "10560"
     },
     "execution_count": 9,
     "metadata": {},
     "output_type": "execute_result"
    }
   ],
   "source": [
    "len(train_loader)*batch_size"
   ]
  },
  {
   "cell_type": "code",
   "execution_count": 10,
   "metadata": {
    "pycharm": {
     "name": "#%%\n"
    }
   },
   "outputs": [],
   "source": [
    "device = torch.device(\"cuda:0\" if torch.cuda.is_available() else \"cpu\")"
   ]
  },
  {
   "cell_type": "code",
   "execution_count": 11,
   "metadata": {
    "pycharm": {
     "name": "#%%\n"
    }
   },
   "outputs": [],
   "source": [
    "# 初始化模型\n",
    "# model = ViT(\n",
    "#     image_size = 32,\n",
    "#     patch_size = 4,\n",
    "#     num_classes = 10,\n",
    "#     dim = 512,\n",
    "#     depth = 6,\n",
    "#     heads = 8,\n",
    "#     mlp_dim = 512,\n",
    "#     dropout = 0.1,\n",
    "#     emb_dropout = 0.1\n",
    "# ).to(device)\n",
    "\n",
    "model = SimpleDLA().to(device)"
   ]
  },
  {
   "cell_type": "code",
   "execution_count": 12,
   "metadata": {
    "pycharm": {
     "name": "#%%\n"
    }
   },
   "outputs": [],
   "source": [
    "# 定义损失函数和potimizer\n",
    "# loss_function = torch.nn.CrossEntropyLoss()\n",
    "# optimizer = torch.optim.Adam(model.parameters(), lr=2e-4)\n",
    "\n",
    "loss_function = torch.nn.CrossEntropyLoss()\n",
    "optimizer = torch.optim.SGD(model.parameters(), lr=0.1,\n",
    "                      momentum=0.9, weight_decay=5e-4)"
   ]
  },
  {
   "cell_type": "code",
   "execution_count": 13,
   "metadata": {
    "pycharm": {
     "name": "#%%\n"
    }
   },
   "outputs": [
    {
     "data": {
      "text/plain": "SimpleDLA(\n  (base): Sequential(\n    (0): Conv2d(3, 16, kernel_size=(3, 3), stride=(1, 1), padding=(1, 1), bias=False)\n    (1): BatchNorm2d(16, eps=1e-05, momentum=0.1, affine=True, track_running_stats=True)\n    (2): ReLU(inplace=True)\n  )\n  (layer1): Sequential(\n    (0): Conv2d(16, 16, kernel_size=(3, 3), stride=(1, 1), padding=(1, 1), bias=False)\n    (1): BatchNorm2d(16, eps=1e-05, momentum=0.1, affine=True, track_running_stats=True)\n    (2): ReLU(inplace=True)\n  )\n  (layer2): Sequential(\n    (0): Conv2d(16, 32, kernel_size=(3, 3), stride=(1, 1), padding=(1, 1), bias=False)\n    (1): BatchNorm2d(32, eps=1e-05, momentum=0.1, affine=True, track_running_stats=True)\n    (2): ReLU(inplace=True)\n  )\n  (layer3): Tree(\n    (root): Root(\n      (conv): Conv2d(128, 64, kernel_size=(1, 1), stride=(1, 1), bias=False)\n      (bn): BatchNorm2d(64, eps=1e-05, momentum=0.1, affine=True, track_running_stats=True)\n    )\n    (left_tree): BasicBlock(\n      (conv1): Conv2d(32, 64, kernel_size=(3, 3), stride=(1, 1), padding=(1, 1), bias=False)\n      (bn1): BatchNorm2d(64, eps=1e-05, momentum=0.1, affine=True, track_running_stats=True)\n      (conv2): Conv2d(64, 64, kernel_size=(3, 3), stride=(1, 1), padding=(1, 1), bias=False)\n      (bn2): BatchNorm2d(64, eps=1e-05, momentum=0.1, affine=True, track_running_stats=True)\n      (shortcut): Sequential(\n        (0): Conv2d(32, 64, kernel_size=(1, 1), stride=(1, 1), bias=False)\n        (1): BatchNorm2d(64, eps=1e-05, momentum=0.1, affine=True, track_running_stats=True)\n      )\n    )\n    (right_tree): BasicBlock(\n      (conv1): Conv2d(64, 64, kernel_size=(3, 3), stride=(1, 1), padding=(1, 1), bias=False)\n      (bn1): BatchNorm2d(64, eps=1e-05, momentum=0.1, affine=True, track_running_stats=True)\n      (conv2): Conv2d(64, 64, kernel_size=(3, 3), stride=(1, 1), padding=(1, 1), bias=False)\n      (bn2): BatchNorm2d(64, eps=1e-05, momentum=0.1, affine=True, track_running_stats=True)\n      (shortcut): Sequential()\n    )\n  )\n  (layer4): Tree(\n    (root): Root(\n      (conv): Conv2d(256, 128, kernel_size=(1, 1), stride=(1, 1), bias=False)\n      (bn): BatchNorm2d(128, eps=1e-05, momentum=0.1, affine=True, track_running_stats=True)\n    )\n    (left_tree): Tree(\n      (root): Root(\n        (conv): Conv2d(256, 128, kernel_size=(1, 1), stride=(1, 1), bias=False)\n        (bn): BatchNorm2d(128, eps=1e-05, momentum=0.1, affine=True, track_running_stats=True)\n      )\n      (left_tree): BasicBlock(\n        (conv1): Conv2d(64, 128, kernel_size=(3, 3), stride=(2, 2), padding=(1, 1), bias=False)\n        (bn1): BatchNorm2d(128, eps=1e-05, momentum=0.1, affine=True, track_running_stats=True)\n        (conv2): Conv2d(128, 128, kernel_size=(3, 3), stride=(1, 1), padding=(1, 1), bias=False)\n        (bn2): BatchNorm2d(128, eps=1e-05, momentum=0.1, affine=True, track_running_stats=True)\n        (shortcut): Sequential(\n          (0): Conv2d(64, 128, kernel_size=(1, 1), stride=(2, 2), bias=False)\n          (1): BatchNorm2d(128, eps=1e-05, momentum=0.1, affine=True, track_running_stats=True)\n        )\n      )\n      (right_tree): BasicBlock(\n        (conv1): Conv2d(128, 128, kernel_size=(3, 3), stride=(1, 1), padding=(1, 1), bias=False)\n        (bn1): BatchNorm2d(128, eps=1e-05, momentum=0.1, affine=True, track_running_stats=True)\n        (conv2): Conv2d(128, 128, kernel_size=(3, 3), stride=(1, 1), padding=(1, 1), bias=False)\n        (bn2): BatchNorm2d(128, eps=1e-05, momentum=0.1, affine=True, track_running_stats=True)\n        (shortcut): Sequential()\n      )\n    )\n    (right_tree): Tree(\n      (root): Root(\n        (conv): Conv2d(256, 128, kernel_size=(1, 1), stride=(1, 1), bias=False)\n        (bn): BatchNorm2d(128, eps=1e-05, momentum=0.1, affine=True, track_running_stats=True)\n      )\n      (left_tree): BasicBlock(\n        (conv1): Conv2d(128, 128, kernel_size=(3, 3), stride=(1, 1), padding=(1, 1), bias=False)\n        (bn1): BatchNorm2d(128, eps=1e-05, momentum=0.1, affine=True, track_running_stats=True)\n        (conv2): Conv2d(128, 128, kernel_size=(3, 3), stride=(1, 1), padding=(1, 1), bias=False)\n        (bn2): BatchNorm2d(128, eps=1e-05, momentum=0.1, affine=True, track_running_stats=True)\n        (shortcut): Sequential()\n      )\n      (right_tree): BasicBlock(\n        (conv1): Conv2d(128, 128, kernel_size=(3, 3), stride=(1, 1), padding=(1, 1), bias=False)\n        (bn1): BatchNorm2d(128, eps=1e-05, momentum=0.1, affine=True, track_running_stats=True)\n        (conv2): Conv2d(128, 128, kernel_size=(3, 3), stride=(1, 1), padding=(1, 1), bias=False)\n        (bn2): BatchNorm2d(128, eps=1e-05, momentum=0.1, affine=True, track_running_stats=True)\n        (shortcut): Sequential()\n      )\n    )\n  )\n  (layer5): Tree(\n    (root): Root(\n      (conv): Conv2d(512, 256, kernel_size=(1, 1), stride=(1, 1), bias=False)\n      (bn): BatchNorm2d(256, eps=1e-05, momentum=0.1, affine=True, track_running_stats=True)\n    )\n    (left_tree): Tree(\n      (root): Root(\n        (conv): Conv2d(512, 256, kernel_size=(1, 1), stride=(1, 1), bias=False)\n        (bn): BatchNorm2d(256, eps=1e-05, momentum=0.1, affine=True, track_running_stats=True)\n      )\n      (left_tree): BasicBlock(\n        (conv1): Conv2d(128, 256, kernel_size=(3, 3), stride=(2, 2), padding=(1, 1), bias=False)\n        (bn1): BatchNorm2d(256, eps=1e-05, momentum=0.1, affine=True, track_running_stats=True)\n        (conv2): Conv2d(256, 256, kernel_size=(3, 3), stride=(1, 1), padding=(1, 1), bias=False)\n        (bn2): BatchNorm2d(256, eps=1e-05, momentum=0.1, affine=True, track_running_stats=True)\n        (shortcut): Sequential(\n          (0): Conv2d(128, 256, kernel_size=(1, 1), stride=(2, 2), bias=False)\n          (1): BatchNorm2d(256, eps=1e-05, momentum=0.1, affine=True, track_running_stats=True)\n        )\n      )\n      (right_tree): BasicBlock(\n        (conv1): Conv2d(256, 256, kernel_size=(3, 3), stride=(1, 1), padding=(1, 1), bias=False)\n        (bn1): BatchNorm2d(256, eps=1e-05, momentum=0.1, affine=True, track_running_stats=True)\n        (conv2): Conv2d(256, 256, kernel_size=(3, 3), stride=(1, 1), padding=(1, 1), bias=False)\n        (bn2): BatchNorm2d(256, eps=1e-05, momentum=0.1, affine=True, track_running_stats=True)\n        (shortcut): Sequential()\n      )\n    )\n    (right_tree): Tree(\n      (root): Root(\n        (conv): Conv2d(512, 256, kernel_size=(1, 1), stride=(1, 1), bias=False)\n        (bn): BatchNorm2d(256, eps=1e-05, momentum=0.1, affine=True, track_running_stats=True)\n      )\n      (left_tree): BasicBlock(\n        (conv1): Conv2d(256, 256, kernel_size=(3, 3), stride=(1, 1), padding=(1, 1), bias=False)\n        (bn1): BatchNorm2d(256, eps=1e-05, momentum=0.1, affine=True, track_running_stats=True)\n        (conv2): Conv2d(256, 256, kernel_size=(3, 3), stride=(1, 1), padding=(1, 1), bias=False)\n        (bn2): BatchNorm2d(256, eps=1e-05, momentum=0.1, affine=True, track_running_stats=True)\n        (shortcut): Sequential()\n      )\n      (right_tree): BasicBlock(\n        (conv1): Conv2d(256, 256, kernel_size=(3, 3), stride=(1, 1), padding=(1, 1), bias=False)\n        (bn1): BatchNorm2d(256, eps=1e-05, momentum=0.1, affine=True, track_running_stats=True)\n        (conv2): Conv2d(256, 256, kernel_size=(3, 3), stride=(1, 1), padding=(1, 1), bias=False)\n        (bn2): BatchNorm2d(256, eps=1e-05, momentum=0.1, affine=True, track_running_stats=True)\n        (shortcut): Sequential()\n      )\n    )\n  )\n  (layer6): Tree(\n    (root): Root(\n      (conv): Conv2d(1024, 512, kernel_size=(1, 1), stride=(1, 1), bias=False)\n      (bn): BatchNorm2d(512, eps=1e-05, momentum=0.1, affine=True, track_running_stats=True)\n    )\n    (left_tree): BasicBlock(\n      (conv1): Conv2d(256, 512, kernel_size=(3, 3), stride=(2, 2), padding=(1, 1), bias=False)\n      (bn1): BatchNorm2d(512, eps=1e-05, momentum=0.1, affine=True, track_running_stats=True)\n      (conv2): Conv2d(512, 512, kernel_size=(3, 3), stride=(1, 1), padding=(1, 1), bias=False)\n      (bn2): BatchNorm2d(512, eps=1e-05, momentum=0.1, affine=True, track_running_stats=True)\n      (shortcut): Sequential(\n        (0): Conv2d(256, 512, kernel_size=(1, 1), stride=(2, 2), bias=False)\n        (1): BatchNorm2d(512, eps=1e-05, momentum=0.1, affine=True, track_running_stats=True)\n      )\n    )\n    (right_tree): BasicBlock(\n      (conv1): Conv2d(512, 512, kernel_size=(3, 3), stride=(1, 1), padding=(1, 1), bias=False)\n      (bn1): BatchNorm2d(512, eps=1e-05, momentum=0.1, affine=True, track_running_stats=True)\n      (conv2): Conv2d(512, 512, kernel_size=(3, 3), stride=(1, 1), padding=(1, 1), bias=False)\n      (bn2): BatchNorm2d(512, eps=1e-05, momentum=0.1, affine=True, track_running_stats=True)\n      (shortcut): Sequential()\n    )\n  )\n  (linear): Linear(in_features=512, out_features=10, bias=True)\n)"
     },
     "execution_count": 13,
     "metadata": {},
     "output_type": "execute_result"
    }
   ],
   "source": [
    "# 加载第 cp*10个checkpoint\n",
    "checkpoint = torch.load('./weights_LDA/checkpoint-' + str(cp*10) + '.pth.tar')\n",
    "    \n",
    "model.load_state_dict(checkpoint['state_dict']) \n",
    "optimizer.load_state_dict(checkpoint['optimizer']) #加载优化器的参数\n",
    "\n",
    "scheduler = torch.optim.lr_scheduler.CosineAnnealingLR(optimizer, T_max=200)\n",
    "model.train()"
   ]
  },
  {
   "cell_type": "code",
   "execution_count": 14,
   "metadata": {
    "pycharm": {
     "name": "#%%\n"
    }
   },
   "outputs": [],
   "source": [
    "tags = [\"train_loss\", \"train_acc\", \"val_loss\", \"val_acc\", \"learning_rate\"]\n",
    "best_acc = 0"
   ]
  },
  {
   "cell_type": "code",
   "execution_count": 15,
   "metadata": {
    "pycharm": {
     "name": "#%%\n"
    }
   },
   "outputs": [
    {
     "name": "stderr",
     "output_type": "stream",
     "text": [
      "[valid epoch 20] loss: 0.789, acc: 0.726: 100%|██████████| 79/79 [00:02<00:00, 34.76it/s]\n"
     ]
    },
    {
     "name": "stdout",
     "output_type": "stream",
     "text": [
      "Best model is saved! Accuracy is 0.7262\n",
      "Best model is saved! Accuracy is 0.7364\n"
     ]
    },
    {
     "name": "stderr",
     "output_type": "stream",
     "text": [
      "[valid epoch 25] loss: 0.929, acc: 0.699: 100%|██████████| 79/79 [00:02<00:00, 36.14it/s]\n",
      "[valid epoch 30] loss: 0.954, acc: 0.695: 100%|██████████| 79/79 [00:02<00:00, 36.13it/s]\n",
      "[valid epoch 35] loss: 0.807, acc: 0.731: 100%|██████████| 79/79 [00:02<00:00, 35.54it/s]\n",
      "[valid epoch 40] loss: 0.865, acc: 0.709: 100%|██████████| 79/79 [00:02<00:00, 35.58it/s]\n",
      "[valid epoch 45] loss: 0.856, acc: 0.725: 100%|██████████| 79/79 [00:02<00:00, 35.60it/s]\n",
      "[valid epoch 50] loss: 0.901, acc: 0.716: 100%|██████████| 79/79 [00:02<00:00, 34.12it/s]\n",
      "[valid epoch 55] loss: 1.298, acc: 0.646: 100%|██████████| 79/79 [00:02<00:00, 35.25it/s]\n",
      "[valid epoch 60] loss: 0.895, acc: 0.718: 100%|██████████| 79/79 [00:02<00:00, 35.26it/s]\n"
     ]
    },
    {
     "name": "stdout",
     "output_type": "stream",
     "text": [
      "Best model is saved! Accuracy is 0.7392\n"
     ]
    },
    {
     "name": "stderr",
     "output_type": "stream",
     "text": [
      "[valid epoch 65] loss: 0.803, acc: 0.740: 100%|██████████| 79/79 [00:02<00:00, 34.64it/s]\n"
     ]
    },
    {
     "name": "stdout",
     "output_type": "stream",
     "text": [
      "Best model is saved! Accuracy is 0.7398\n",
      "Best model is saved! Accuracy is 0.7456\n"
     ]
    },
    {
     "name": "stderr",
     "output_type": "stream",
     "text": [
      "[valid epoch 70] loss: 0.886, acc: 0.728: 100%|██████████| 79/79 [00:02<00:00, 35.23it/s]\n"
     ]
    },
    {
     "name": "stdout",
     "output_type": "stream",
     "text": [
      "Best model is saved! Accuracy is 0.7578\n"
     ]
    },
    {
     "name": "stderr",
     "output_type": "stream",
     "text": [
      "[valid epoch 75] loss: 0.948, acc: 0.704: 100%|██████████| 79/79 [00:02<00:00, 35.00it/s]\n",
      "[valid epoch 80] loss: 0.775, acc: 0.756: 100%|██████████| 79/79 [00:02<00:00, 35.41it/s]\n"
     ]
    },
    {
     "name": "stdout",
     "output_type": "stream",
     "text": [
      "Best model is saved! Accuracy is 0.7598\n"
     ]
    },
    {
     "name": "stderr",
     "output_type": "stream",
     "text": [
      "[valid epoch 85] loss: 1.484, acc: 0.590: 100%|██████████| 79/79 [00:02<00:00, 35.01it/s]\n",
      "[valid epoch 90] loss: 0.858, acc: 0.731: 100%|██████████| 79/79 [00:02<00:00, 34.60it/s]\n"
     ]
    },
    {
     "name": "stdout",
     "output_type": "stream",
     "text": [
      "Best model is saved! Accuracy is 0.7822\n"
     ]
    },
    {
     "name": "stderr",
     "output_type": "stream",
     "text": [
      "[valid epoch 95] loss: 0.848, acc: 0.736: 100%|██████████| 79/79 [00:02<00:00, 35.21it/s]\n",
      "[valid epoch 100] loss: 0.815, acc: 0.755: 100%|██████████| 79/79 [00:02<00:00, 34.70it/s]\n"
     ]
    },
    {
     "name": "stdout",
     "output_type": "stream",
     "text": [
      "Best model is saved! Accuracy is 0.7826\n"
     ]
    },
    {
     "name": "stderr",
     "output_type": "stream",
     "text": [
      "[valid epoch 105] loss: 0.859, acc: 0.740: 100%|██████████| 79/79 [00:02<00:00, 35.43it/s]\n",
      "[valid epoch 110] loss: 0.641, acc: 0.793: 100%|██████████| 79/79 [00:02<00:00, 34.98it/s]\n"
     ]
    },
    {
     "name": "stdout",
     "output_type": "stream",
     "text": [
      "Best model is saved! Accuracy is 0.7934\n"
     ]
    },
    {
     "name": "stderr",
     "output_type": "stream",
     "text": [
      "[valid epoch 115] loss: 0.656, acc: 0.801: 100%|██████████| 79/79 [00:02<00:00, 34.21it/s]\n"
     ]
    },
    {
     "name": "stdout",
     "output_type": "stream",
     "text": [
      "Best model is saved! Accuracy is 0.801\n"
     ]
    },
    {
     "name": "stderr",
     "output_type": "stream",
     "text": [
      "[valid epoch 120] loss: 0.998, acc: 0.733: 100%|██████████| 79/79 [00:02<00:00, 34.77it/s]\n"
     ]
    },
    {
     "name": "stdout",
     "output_type": "stream",
     "text": [
      "Best model is saved! Accuracy is 0.8046\n"
     ]
    },
    {
     "name": "stderr",
     "output_type": "stream",
     "text": [
      "[valid epoch 125] loss: 0.864, acc: 0.747: 100%|██████████| 79/79 [00:02<00:00, 35.11it/s]\n",
      "[valid epoch 130] loss: 0.756, acc: 0.785: 100%|██████████| 79/79 [00:02<00:00, 35.14it/s]\n"
     ]
    },
    {
     "name": "stdout",
     "output_type": "stream",
     "text": [
      "Best model is saved! Accuracy is 0.809\n"
     ]
    },
    {
     "name": "stderr",
     "output_type": "stream",
     "text": [
      "[valid epoch 135] loss: 0.739, acc: 0.785: 100%|██████████| 79/79 [00:02<00:00, 35.11it/s]\n",
      "[valid epoch 140] loss: 0.745, acc: 0.792: 100%|██████████| 79/79 [00:02<00:00, 33.83it/s]\n"
     ]
    },
    {
     "name": "stdout",
     "output_type": "stream",
     "text": [
      "Best model is saved! Accuracy is 0.8108\n"
     ]
    },
    {
     "name": "stderr",
     "output_type": "stream",
     "text": [
      "[valid epoch 145] loss: 0.701, acc: 0.792: 100%|██████████| 79/79 [00:02<00:00, 34.49it/s]\n"
     ]
    },
    {
     "name": "stdout",
     "output_type": "stream",
     "text": [
      "Best model is saved! Accuracy is 0.8148\n"
     ]
    },
    {
     "name": "stderr",
     "output_type": "stream",
     "text": [
      "[valid epoch 150] loss: 0.720, acc: 0.805: 100%|██████████| 79/79 [00:02<00:00, 34.88it/s]\n"
     ]
    },
    {
     "name": "stdout",
     "output_type": "stream",
     "text": [
      "Best model is saved! Accuracy is 0.8264\n"
     ]
    },
    {
     "name": "stderr",
     "output_type": "stream",
     "text": [
      "[valid epoch 155] loss: 0.726, acc: 0.817: 100%|██████████| 79/79 [00:02<00:00, 35.30it/s]\n"
     ]
    },
    {
     "name": "stdout",
     "output_type": "stream",
     "text": [
      "Best model is saved! Accuracy is 0.8406\n"
     ]
    },
    {
     "name": "stderr",
     "output_type": "stream",
     "text": [
      "[valid epoch 160] loss: 0.759, acc: 0.826: 100%|██████████| 79/79 [00:02<00:00, 35.36it/s]\n",
      "[valid epoch 165] loss: 0.662, acc: 0.838: 100%|██████████| 79/79 [00:02<00:00, 35.64it/s]\n"
     ]
    },
    {
     "name": "stdout",
     "output_type": "stream",
     "text": [
      "Best model is saved! Accuracy is 0.8406\n",
      "Best model is saved! Accuracy is 0.8478\n"
     ]
    },
    {
     "name": "stderr",
     "output_type": "stream",
     "text": [
      "[valid epoch 170] loss: 0.640, acc: 0.840: 100%|██████████| 79/79 [00:02<00:00, 35.28it/s]\n"
     ]
    },
    {
     "name": "stdout",
     "output_type": "stream",
     "text": [
      "Best model is saved! Accuracy is 0.8492\n"
     ]
    },
    {
     "name": "stderr",
     "output_type": "stream",
     "text": [
      "[valid epoch 175] loss: 0.687, acc: 0.837: 100%|██████████| 79/79 [00:02<00:00, 35.71it/s]\n"
     ]
    },
    {
     "name": "stdout",
     "output_type": "stream",
     "text": [
      "Best model is saved! Accuracy is 0.8562\n"
     ]
    },
    {
     "name": "stderr",
     "output_type": "stream",
     "text": [
      "[valid epoch 180] loss: 0.660, acc: 0.847: 100%|██████████| 79/79 [00:02<00:00, 34.74it/s]\n",
      "[valid epoch 185] loss: 0.625, acc: 0.856: 100%|██████████| 79/79 [00:02<00:00, 35.65it/s]\n"
     ]
    },
    {
     "name": "stdout",
     "output_type": "stream",
     "text": [
      "Best model is saved! Accuracy is 0.8564\n"
     ]
    },
    {
     "name": "stderr",
     "output_type": "stream",
     "text": [
      "[valid epoch 190] loss: 0.644, acc: 0.851: 100%|██████████| 79/79 [00:02<00:00, 34.48it/s]\n"
     ]
    },
    {
     "name": "stdout",
     "output_type": "stream",
     "text": [
      "Best model is saved! Accuracy is 0.8578\n"
     ]
    },
    {
     "name": "stderr",
     "output_type": "stream",
     "text": [
      "[valid epoch 195] loss: 0.652, acc: 0.853: 100%|██████████| 79/79 [00:02<00:00, 35.64it/s]\n",
      "[valid epoch 200] loss: 0.635, acc: 0.855: 100%|██████████| 79/79 [00:02<00:00, 35.36it/s]\n"
     ]
    },
    {
     "name": "stdout",
     "output_type": "stream",
     "text": [
      "Best model is saved! Accuracy is 0.86\n"
     ]
    },
    {
     "name": "stderr",
     "output_type": "stream",
     "text": [
      "[valid epoch 205] loss: 0.670, acc: 0.853: 100%|██████████| 79/79 [00:02<00:00, 35.05it/s]\n",
      "[valid epoch 210] loss: 0.653, acc: 0.855: 100%|██████████| 79/79 [00:02<00:00, 34.86it/s]\n",
      "[valid epoch 215] loss: 0.633, acc: 0.856: 100%|██████████| 79/79 [00:02<00:00, 35.22it/s]\n",
      "[valid epoch 220] loss: 0.648, acc: 0.857: 100%|██████████| 79/79 [00:02<00:00, 35.59it/s]\n",
      "[valid epoch 225] loss: 0.631, acc: 0.858: 100%|██████████| 79/79 [00:02<00:00, 35.89it/s]\n",
      "[valid epoch 230] loss: 0.625, acc: 0.859: 100%|██████████| 79/79 [00:02<00:00, 35.08it/s]\n"
     ]
    },
    {
     "name": "stdout",
     "output_type": "stream",
     "text": [
      "Best model is saved! Accuracy is 0.8606\n"
     ]
    },
    {
     "name": "stderr",
     "output_type": "stream",
     "text": [
      "[valid epoch 235] loss: 0.628, acc: 0.856: 100%|██████████| 79/79 [00:02<00:00, 34.83it/s]\n",
      "[valid epoch 240] loss: 0.643, acc: 0.854: 100%|██████████| 79/79 [00:02<00:00, 35.72it/s]\n",
      "[valid epoch 245] loss: 0.656, acc: 0.849: 100%|██████████| 79/79 [00:02<00:00, 35.66it/s]\n"
     ]
    }
   ],
   "source": [
    "# 训练（300 - 10*cp）个epoch\n",
    "for epoch in range(250 - 10 * cp):\n",
    "    \n",
    "    model.train()\n",
    "    accu_loss = torch.zeros(1).to(device)  # 累计损失\n",
    "    accu_num = torch.zeros(1).to(device)  # 累计预测正确的样本数\n",
    "    optimizer.zero_grad()\n",
    "\n",
    "    sample_num = 0\n",
    "    # data_loader = tqdm(train_loader)\n",
    "    # 训练\n",
    "    for step, data in enumerate(train_loader):\n",
    "        images, labels, n = data\n",
    "\n",
    "        sample_num += images.shape[0]\n",
    "\n",
    "        pred = model(images.to(device))\n",
    "        \n",
    "        pred_classes = torch.max(pred, dim=1)[1]  # 预测的类别，[1]是标签索引\n",
    "       \n",
    "        \n",
    "        accu_num += torch.eq(pred_classes, labels.to(device)).sum()\n",
    "        loss = loss_function(pred, labels.to(device))\n",
    "        loss.backward()\n",
    "        \n",
    "        accu_loss += loss.detach()\n",
    "        \n",
    "        # data_loader.desc = \"[train epoch {}] loss: {:.3f}, acc: {:.3f}\".format(epoch  + 10 * cp,\n",
    "        #                                                                        accu_loss.item() / (step + 1),\n",
    "        #                                                                        accu_num.item() / sample_num)\n",
    "        optimizer.step()  # 更新\n",
    "        optimizer.zero_grad()\n",
    "    \n",
    "    # 进行evaluate\n",
    "    train_loss =  accu_loss.item() / (step + 1)\n",
    "    train_acc = accu_num.item() / sample_num\n",
    "    val_loss, val_acc = utils.evaluate(model=model,\n",
    "                                data_loader=val_loader,\n",
    "                                device=device,\n",
    "                                epoch=epoch + 10 * cp,\n",
    "                                print_info=(epoch%5==0))\n",
    "    \n",
    "    # 将每个epoch的数据保存到tensorboard\n",
    "    writer.add_scalar(tags[0] + \"_\"+ description, train_loss, epoch + 10 * cp)\n",
    "    # writer.add_scalar(tags[1] + \"_\" + str(cp*10) + description, train_acc, epoch + 10 * cp)\n",
    "    writer.add_scalar(tags[2] + \"_\"+ description, val_loss, epoch + 10 * cp)\n",
    "    writer.add_scalar(tags[3] + \"_\"+ description, val_acc, epoch + 10 * cp)\n",
    "    # writer.add_scalar(tags[4] + \"_\" + str(cp*10) + description, optimizer.param_groups[0][\"lr\"], epoch + 10 * cp)\n",
    "    if val_acc >= best_acc:\n",
    "        best_acc = val_acc\n",
    "        \n",
    "        state = {\n",
    "                    'epoch' : epoch + 1,  #保存当前的迭代次数\n",
    "                    'state_dict' : model.state_dict(), #保存模型参数\n",
    "                    'optimizer' : optimizer.state_dict()\n",
    "                }\n",
    "\n",
    "        torch.save(state, './best_model/' + description + '.pth.tar') \n",
    "        print(\"Best model is saved! Accuracy is {}\".format(best_acc))\n",
    "        \n",
    "        \n",
    "    scheduler.step()"
   ]
  }
 ],
 "metadata": {
  "kernelspec": {
   "display_name": "Python 3.9.12 ('env1')",
   "language": "python",
   "name": "python3"
  },
  "language_info": {
   "codemirror_mode": {
    "name": "ipython",
    "version": 3
   },
   "file_extension": ".py",
   "mimetype": "text/x-python",
   "name": "python",
   "nbconvert_exporter": "python",
   "pygments_lexer": "ipython3",
   "version": "3.9.12"
  },
  "orig_nbformat": 4,
  "vscode": {
   "interpreter": {
    "hash": "ac2c9fc71220d1b58b3640599b1e22027da1326aa67720425adf09ad6c638495"
   }
  }
 },
 "nbformat": 4,
 "nbformat_minor": 2
}